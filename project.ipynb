{
 "cells": [
  {
   "cell_type": "code",
   "execution_count": 1,
   "metadata": {},
   "outputs": [
    {
     "name": "stdout",
     "output_type": "stream",
     "text": [
      "Defaulting to user installation because normal site-packages is not writeable\n",
      "Collecting ffmpeg-python\n",
      "  Downloading ffmpeg_python-0.2.0-py3-none-any.whl (25 kB)\n",
      "Requirement already satisfied: future in c:\\programdata\\anaconda3\\lib\\site-packages (from ffmpeg-python) (0.18.2)\n",
      "Installing collected packages: ffmpeg-python\n",
      "Successfully installed ffmpeg-python-0.2.0\n"
     ]
    }
   ],
   "source": [
    "!pip install ffmpeg-python"
   ]
  },
  {
   "cell_type": "code",
   "execution_count": 2,
   "metadata": {},
   "outputs": [
    {
     "name": "stdout",
     "output_type": "stream",
     "text": [
      "Defaulting to user installation because normal site-packages is not writeable\n",
      "Requirement already satisfied: SpeechRecognition in c:\\users\\dsgir\\appdata\\roaming\\python\\python39\\site-packages (3.10.4)\n",
      "Requirement already satisfied: typing-extensions in c:\\programdata\\anaconda3\\lib\\site-packages (from SpeechRecognition) (4.3.0)\n",
      "Requirement already satisfied: requests>=2.26.0 in c:\\programdata\\anaconda3\\lib\\site-packages (from SpeechRecognition) (2.28.1)\n",
      "Requirement already satisfied: charset-normalizer<3,>=2 in c:\\programdata\\anaconda3\\lib\\site-packages (from requests>=2.26.0->SpeechRecognition) (2.0.4)\n",
      "Requirement already satisfied: urllib3<1.27,>=1.21.1 in c:\\programdata\\anaconda3\\lib\\site-packages (from requests>=2.26.0->SpeechRecognition) (1.26.11)\n",
      "Requirement already satisfied: certifi>=2017.4.17 in c:\\programdata\\anaconda3\\lib\\site-packages (from requests>=2.26.0->SpeechRecognition) (2022.9.14)\n",
      "Requirement already satisfied: idna<4,>=2.5 in c:\\programdata\\anaconda3\\lib\\site-packages (from requests>=2.26.0->SpeechRecognition) (3.3)\n"
     ]
    }
   ],
   "source": [
    "!pip install SpeechRecognition"
   ]
  },
  {
   "cell_type": "code",
   "execution_count": 3,
   "metadata": {},
   "outputs": [
    {
     "name": "stdout",
     "output_type": "stream",
     "text": [
      "Defaulting to user installation because normal site-packages is not writeable\n",
      "Requirement already satisfied: pydub in c:\\users\\dsgir\\appdata\\roaming\\python\\python39\\site-packages (0.25.1)\n"
     ]
    }
   ],
   "source": [
    "!pip install pydub"
   ]
  },
  {
   "cell_type": "code",
   "execution_count": 4,
   "metadata": {},
   "outputs": [
    {
     "name": "stdout",
     "output_type": "stream",
     "text": [
      "Defaulting to user installation because normal site-packages is not writeable\n",
      "Collecting keyboard\n",
      "  Downloading keyboard-0.13.5-py3-none-any.whl (58 kB)\n",
      "     -------------------------------------- 58.1/58.1 kB 613.6 kB/s eta 0:00:00\n",
      "Installing collected packages: keyboard\n",
      "Successfully installed keyboard-0.13.5\n"
     ]
    }
   ],
   "source": [
    "!pip install keyboard"
   ]
  },
  {
   "cell_type": "code",
   "execution_count": 5,
   "metadata": {},
   "outputs": [
    {
     "name": "stdout",
     "output_type": "stream",
     "text": [
      "Defaulting to user installation because normal site-packages is not writeable\n",
      "Collecting pocketsphinx\n",
      "  Using cached pocketsphinx-5.0.3.tar.gz (34.1 MB)\n",
      "  Installing build dependencies: started\n",
      "  Installing build dependencies: finished with status 'done'\n",
      "  Getting requirements to build wheel: started\n",
      "  Getting requirements to build wheel: finished with status 'done'\n",
      "  Installing backend dependencies: started\n",
      "  Installing backend dependencies: finished with status 'done'\n",
      "  Preparing metadata (pyproject.toml): started\n",
      "  Preparing metadata (pyproject.toml): finished with status 'done'\n",
      "Collecting sounddevice\n",
      "  Using cached sounddevice-0.4.7-py3-none-win_amd64.whl (200 kB)\n",
      "Requirement already satisfied: CFFI>=1.0 in c:\\programdata\\anaconda3\\lib\\site-packages (from sounddevice->pocketsphinx) (1.15.1)\n",
      "Requirement already satisfied: pycparser in c:\\programdata\\anaconda3\\lib\\site-packages (from CFFI>=1.0->sounddevice->pocketsphinx) (2.21)\n",
      "Building wheels for collected packages: pocketsphinx\n",
      "  Building wheel for pocketsphinx (pyproject.toml): started\n",
      "  Building wheel for pocketsphinx (pyproject.toml): finished with status 'error'\n",
      "Failed to build pocketsphinx\n"
     ]
    },
    {
     "name": "stderr",
     "output_type": "stream",
     "text": [
      "  error: subprocess-exited-with-error\n",
      "  \n",
      "  × Building wheel for pocketsphinx (pyproject.toml) did not run successfully.\n",
      "  │ exit code: 1\n",
      "  ╰─> [23 lines of output]\n",
      "      2024-06-10 09:38:19,538 - scikit_build_core - INFO - RUN: C:\\Users\\dsgir\\AppData\\Local\\Temp\\pip-build-env-yqnbp5vb\\normal\\Lib\\site-packages\\cmake\\data\\bin\\cmake -E capabilities\n",
      "      2024-06-10 09:38:19,582 - scikit_build_core - INFO - CMake version: 3.29.5\n",
      "      *** scikit-build-core 0.9.5 using CMake 3.29.5 (wheel)\n",
      "      2024-06-10 09:38:19,609 - scikit_build_core - INFO - Build directory: C:\\Users\\dsgir\\AppData\\Local\\Temp\\tmpjhb0wwbp\\build\n",
      "      *** Configuring CMake...\n",
      "      2024-06-10 09:38:19,714 - scikit_build_core - WARNING - Can't find a Python library, got libdir=None, ldlibrary=None, multiarch=None, masd=None\n",
      "      2024-06-10 09:38:19,730 - scikit_build_core - INFO - RUN: C:\\Users\\dsgir\\AppData\\Local\\Temp\\pip-build-env-yqnbp5vb\\normal\\Lib\\site-packages\\cmake\\data\\bin\\cmake -S. -BC:\\Users\\dsgir\\AppData\\Local\\Temp\\tmpjhb0wwbp\\build -CC:\\Users\\dsgir\\AppData\\Local\\Temp\\tmpjhb0wwbp\\build\\CMakeInit.txt\n",
      "      loading initial cache file C:\\Users\\dsgir\\AppData\\Local\\Temp\\tmpjhb0wwbp\\build\\CMakeInit.txt\n",
      "      -- Building for: NMake Makefiles\n",
      "      CMake Error at CMakeLists.txt:3 (project):\n",
      "        Running\n",
      "      \n",
      "         'nmake' '-?'\n",
      "      \n",
      "        failed with:\n",
      "      \n",
      "         no such file or directory\n",
      "      \n",
      "      \n",
      "      CMake Error: CMAKE_C_COMPILER not set, after EnableLanguage\n",
      "      -- Configuring incomplete, errors occurred!\n",
      "      \n",
      "      *** CMake configuration failed\n",
      "      [end of output]\n",
      "  \n",
      "  note: This error originates from a subprocess, and is likely not a problem with pip.\n",
      "  ERROR: Failed building wheel for pocketsphinx\n",
      "ERROR: Could not build wheels for pocketsphinx, which is required to install pyproject.toml-based projects\n"
     ]
    }
   ],
   "source": [
    "!pip install pocketsphinx"
   ]
  },
  {
   "cell_type": "code",
   "execution_count": 7,
   "metadata": {},
   "outputs": [],
   "source": [
    "import subprocess\n",
    "import speech_recognition as sr\n",
    "from os import path\n",
    "from pydub import AudioSegment\n",
    "from pydub.playback import play\n",
    "import threading\n",
    "import time\n",
    "import keyboard\n",
    "\n",
    "def extract_audio(video_path, output_path):\n",
    "    try:\n",
    "        subprocess.run(['ffmpeg', '-i', video_path, '-vn', '-acodec', 'pcm_s16le', '-ar', '44100', '-ac', '2', output_path], check=True)\n",
    "    except subprocess.CalledProcessError as e:\n",
    "        print(\"Error extracting audio:\", e)\n",
    "\n",
    "STARTING_SEGMENT = '<s>'\n",
    "ENDING_SEGMENT = '</s>'\n",
    "SYLLABLE_SEGMENT = '<sil>'\n",
    "NON_TEXT_SEGMENTS = [STARTING_SEGMENT, ENDING_SEGMENT, SYLLABLE_SEGMENT]\n",
    "\n",
    "def get_audio_Data(audio_file_name):\n",
    "    r = sr.Recognizer()\n",
    "    with sr.AudioFile(audio_file_name) as source:\n",
    "        audioData = r.record(source)\n",
    "        duration = source.DURATION\n",
    "    return audioData, duration\n",
    "\n",
    "def get_audio_segments(audioData, segmentSize, duration):\n",
    "    r = sr.Recognizer()\n",
    "    cur = 0\n",
    "    segments = {}\n",
    "    while cur < duration:\n",
    "        next_segment = cur + segmentSize\n",
    "        print(f\"retrieving segment from {cur} of size - {segmentSize}\")\n",
    "        segment_audio = audioData.get_segment(cur, next_segment)\n",
    "        text = get_text_from_audio(segment_audio)\n",
    "        segments[text] = cur\n",
    "        cur = next_segment\n",
    "    return segments\n",
    "\n",
    "def get_text_segments_from_audio(audioData):\n",
    "    r = sr.Recognizer()\n",
    "    segments = {}\n",
    "    try:\n",
    "        decoder = r.recognize_sphinx(audioData, show_all=True)\n",
    "        for seg in decoder.seg():\n",
    "            print(f\"Checking segment [{seg.word}] begins at {seg.start_frame / 100} & ends at {seg.end_frame / 100} seconds\")\n",
    "            if seg.word not in NON_TEXT_SEGMENTS:\n",
    "                time_frame = (seg.start_frame / 100, seg.end_frame / 100)\n",
    "                if seg.word in segments:\n",
    "                    segments[seg.word].append(time_frame)\n",
    "                else:\n",
    "                    segments[seg.word] = [time_frame]\n",
    "            else:\n",
    "                print(f\"Skipping segment - {seg.word}\")\n",
    "    except sr.UnknownValueError:\n",
    "        print(\"Sphinx could not understand audio\")\n",
    "    except sr.RequestError as e:\n",
    "        print(f\"Sphinx error; {e}\")\n",
    "    return segments\n",
    "\n",
    "def get_text_from_audio(audioData):\n",
    "    r = sr.Recognizer()\n",
    "    text = ''\n",
    "    try:\n",
    "        text = r.recognize_sphinx(audioData)\n",
    "        print(\"Sphinx thinks you said \\n\" + text)\n",
    "    except sr.UnknownValueError:\n",
    "        print(\"Sphinx could not understand audio\")\n",
    "    except sr.RequestError as e:\n",
    "        print(f\"Sphinx error; {e}\")\n",
    "    return text\n",
    "\n",
    "def play_segment(audio_file_path, start_time, stop_event, finished_event):\n",
    "    audio = AudioSegment.from_wav(audio_file_path)\n",
    "    segment = audio[start_time * 1000:]  # pydub works in milliseconds\n",
    "    stop_event.clear()\n",
    "    \n",
    "    play_thread = threading.Thread(target=play, args=(segment,))\n",
    "    play_thread.start()\n",
    "    \n",
    "    while play_thread.is_alive():\n",
    "        if stop_event.is_set():\n",
    "            play_thread.join()\n",
    "            break\n",
    "        continue\n",
    "\n",
    "    finished_event.set()\n",
    "\n",
    "def stop_audio_on_keypress(stop_event, finished_event):\n",
    "    keyboard.wait('enter')\n",
    "    stop_event.set()\n",
    "    finished_event.set()\n",
    "\n",
    "if __name__ == '__main__':\n",
    "    video_name = input(\"Enter the name of the video file: \")\n",
    "    video_path = path.join(path.realpath(\"C:\\\\Users\\\\dsgir\\\\OneDrive\\\\Desktop\\\\mini_project\\\\Proj\\\\Proj\"), video_name + \".mp4\")\n",
    "    audio_path = path.join(path.realpath(\"C:\\\\Users\\\\dsgir\\\\OneDrive\\\\Desktop\\\\mini_project\\\\Proj\\\\Proj\"), video_name + \".wav\")\n",
    "    extract_audio(video_path, audio_path)\n",
    "    # audio_file_name = get_audio_file_name()\n",
    "    audioData, duration = get_audio_Data(audio_path)\n",
    "    entire_text = get_text_from_audio(audioData)\n",
    "    print(f'Entire text for the audio file - {audio_path} : {entire_text}')\n",
    "    segments = get_text_segments_from_audio(audioData)\n",
    "    \n",
    "    print(\"Enter text to see the occurrence: \")\n",
    "    \n",
    "    key = input()\n",
    "    if key in segments:\n",
    "        frames = segments[key]\n",
    "        num_times = len(frames)\n",
    "        if num_times > 1:\n",
    "            print(f\"The text [{key}] repeated {num_times} times in the audio file as shown below:\")\n",
    "            for i, frame in enumerate(frames):\n",
    "                print(f\"{i + 1}. Starts at {frame[0]} and ends at {frame[1]}\")\n",
    "            \n",
    "            print(\"Enter the number of the segment you want to play: \")\n",
    "            segment_number = int(input())\n",
    "            if 1 <= segment_number <= num_times:\n",
    "                start_time, _ = frames[segment_number - 1]\n",
    "                \n",
    "                stop_event = threading.Event()\n",
    "                finished_event = threading.Event()\n",
    "                audio_thread = threading.Thread(target=play_segment, args=(audio_path, start_time, stop_event, finished_event))\n",
    "                audio_thread.start()\n",
    "                \n",
    "                stop_audio_on_keypress(stop_event, finished_event)\n",
    "                if audio_thread.is_alive():\n",
    "                    stop_event.set()\n",
    "                    audio_thread.join()\n",
    "        else:\n",
    "            print(f\"The text [{key}] occurred once starting at {frames[0][0]} and ends at {frames[0][1]}\")\n",
    "            start_time, _ = frames[0]\n",
    "            \n",
    "            stop_event = threading.Event()\n",
    "            finished_event = threading.Event()\n",
    "            audio_thread = threading.Thread(target=play_segment, args=(audio_path, start_time, stop_event, finished_event))\n",
    "            audio_thread.start()\n",
    "            \n",
    "            stop_audio_on_keypress(stop_event, finished_event)\n",
    "            if audio_thread.is_alive():\n",
    "                stop_event.set()\n",
    "                audio_thread.join()\n",
    "    else:\n",
    "        print(f\"The text [{key}] not found in the given audio file. Please check the input.\")\n",
    "    \n",
    "    # Wait for audio playback to finish or be stopped\n",
    "    finished_event.wait()\n",
    "    print(\"Exiting program.\")"
   ]
  },
  {
   "cell_type": "code",
   "execution_count": null,
   "metadata": {},
   "outputs": [],
   "source": []
  }
 ],
 "metadata": {
  "kernelspec": {
   "display_name": "base",
   "language": "python",
   "name": "python3"
  },
  "language_info": {
   "codemirror_mode": {
    "name": "ipython",
    "version": 3
   },
   "file_extension": ".py",
   "mimetype": "text/x-python",
   "name": "python",
   "nbconvert_exporter": "python",
   "pygments_lexer": "ipython3",
   "version": "3.9.13"
  }
 },
 "nbformat": 4,
 "nbformat_minor": 2
}
